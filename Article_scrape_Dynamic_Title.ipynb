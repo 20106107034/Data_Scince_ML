{
  "nbformat": 4,
  "nbformat_minor": 0,
  "metadata": {
    "colab": {
      "provenance": [],
      "authorship_tag": "ABX9TyO9UPUtu1yDnrHiZrdNos8K",
      "include_colab_link": true
    },
    "kernelspec": {
      "name": "python3",
      "display_name": "Python 3"
    },
    "language_info": {
      "name": "python"
    }
  },
  "cells": [
    {
      "cell_type": "markdown",
      "metadata": {
        "id": "view-in-github",
        "colab_type": "text"
      },
      "source": [
        "<a href=\"https://colab.research.google.com/github/20106107034/Data_Scince_ML/blob/main/Article_scrape_Dynamic_Title.ipynb\" target=\"_parent\"><img src=\"https://colab.research.google.com/assets/colab-badge.svg\" alt=\"Open In Colab\"/></a>"
      ]
    },
    {
      "cell_type": "markdown",
      "source": [
        "**Importing Library**"
      ],
      "metadata": {
        "id": "8MAxsvECEmZy"
      }
    },
    {
      "cell_type": "code",
      "source": [
        "import requests\n",
        "from bs4 import BeautifulSoup\n",
        "from tqdm import tqdm"
      ],
      "metadata": {
        "id": "9ftr5nNuEwFq"
      },
      "execution_count": 17,
      "outputs": []
    },
    {
      "cell_type": "markdown",
      "source": [
        "**Use Input TO Genrate Google Search Link**"
      ],
      "metadata": {
        "id": "N168y4e8E-Ss"
      }
    },
    {
      "cell_type": "code",
      "source": [
        "cherater_ =str(input(\"Enter your cheracher \")).replace(' ','+')\n",
        "link = 'https://www.google.com/search?q='+cherater_\n",
        "print(link)"
      ],
      "metadata": {
        "colab": {
          "base_uri": "https://localhost:8080/"
        },
        "id": "J2v-ujxnE7d6",
        "outputId": "86cdd176-87be-4e90-99ab-2b54e8b258b7"
      },
      "execution_count": 18,
      "outputs": [
        {
          "output_type": "stream",
          "name": "stdout",
          "text": [
            "Enter your cheracher Amir Khan\n",
            "https://www.google.com/search?q=Amir+Khan\n"
          ]
        }
      ]
    },
    {
      "cell_type": "markdown",
      "source": [
        "**Scrape Content from Wikipedia add it in link**"
      ],
      "metadata": {
        "id": "dzBbTwQ9FnAr"
      }
    },
    {
      "cell_type": "code",
      "source": [
        "link =link+'=wikipedia'\n",
        "print(link)"
      ],
      "metadata": {
        "colab": {
          "base_uri": "https://localhost:8080/"
        },
        "id": "ZQFyC-hvFP5J",
        "outputId": "282280a4-6d78-47a4-ffc0-4fa83a0c1d52"
      },
      "execution_count": 19,
      "outputs": [
        {
          "output_type": "stream",
          "name": "stdout",
          "text": [
            "https://www.google.com/search?q=Amir+Khan=wikipedia\n"
          ]
        }
      ]
    },
    {
      "cell_type": "markdown",
      "source": [
        "**Requests send**"
      ],
      "metadata": {
        "id": "7zLEa3FoGTAE"
      }
    },
    {
      "cell_type": "code",
      "source": [
        "res   = requests.get(link)\n",
        "soup  = BeautifulSoup(res.text,'html.parser')"
      ],
      "metadata": {
        "id": "caKqGstiGftC"
      },
      "execution_count": 20,
      "outputs": []
    },
    {
      "cell_type": "markdown",
      "source": [
        "**Update link for  Wikipedia Page**"
      ],
      "metadata": {
        "id": "A0lAehhkF-cr"
      }
    },
    {
      "cell_type": "code",
      "source": [
        "\n",
        "lin=''\n",
        "p=0\n",
        "for a in soup.find_all('a'):\n",
        "    lin = a.get('href')\n",
        "    try:\n",
        "        if('en.wikipedia.org' in lin):\n",
        "            lin=lin[7:].split('&')[0]\n",
        "            break\n",
        "    except:\n",
        "        p=1\n",
        "        pass\n",
        "print(lin)"
      ],
      "metadata": {
        "colab": {
          "base_uri": "https://localhost:8080/"
        },
        "id": "7bcxs3iVF2Qe",
        "outputId": "352b36bc-ab48-464f-bd16-d7d6031d59b9"
      },
      "execution_count": 21,
      "outputs": [
        {
          "output_type": "stream",
          "name": "stdout",
          "text": [
            "https://en.wikipedia.org/wiki/Aamir_Khan\n"
          ]
        }
      ]
    },
    {
      "cell_type": "markdown",
      "source": [
        "Agen Send Request Now for Article Scraping"
      ],
      "metadata": {
        "id": "n-8HP6zmHA74"
      }
    },
    {
      "cell_type": "code",
      "source": [
        "res     = requests.get(lin)\n",
        "soup    = BeautifulSoup(res.text,'html.parser')\n"
      ],
      "metadata": {
        "id": "n4ukpbfbG7b4"
      },
      "execution_count": 22,
      "outputs": []
    },
    {
      "cell_type": "markdown",
      "source": [
        "**Your Heading**"
      ],
      "metadata": {
        "id": "yzb3AaW3HURB"
      }
    },
    {
      "cell_type": "code",
      "source": [
        "heading=soup.find('h1').text\n",
        "print(heading)"
      ],
      "metadata": {
        "colab": {
          "base_uri": "https://localhost:8080/"
        },
        "id": "7oPVuL5PHTLH",
        "outputId": "f13477a4-1aef-412f-a2b2-11fa59fc556d"
      },
      "execution_count": 23,
      "outputs": [
        {
          "output_type": "stream",
          "name": "stdout",
          "text": [
            "Aamir Khan\n"
          ]
        }
      ]
    },
    {
      "cell_type": "markdown",
      "source": [
        "**Article Scraping**"
      ],
      "metadata": {
        "id": "zXcrEQlXHij1"
      }
    },
    {
      "cell_type": "code",
      "source": [
        "con=''\n",
        "temp=0\n",
        "for p in soup.find_all('p'):\n",
        "    if(temp>0):\n",
        "      con_new  = p.text.strip()\n",
        "      con     += con_new\n",
        "      con     += '\\n'\n",
        "    else:\n",
        "      temp=temp+1\n",
        "        \n",
        "con =con.replace('\\n\\n','')       \n",
        "for i in range(0,470):\n",
        "    con=con.replace('['+str(i)+']',' ')\n",
        "\n"
      ],
      "metadata": {
        "id": "P2f3f78aHdXb"
      },
      "execution_count": 24,
      "outputs": []
    },
    {
      "cell_type": "markdown",
      "source": [
        "**Write a text file of Article**"
      ],
      "metadata": {
        "id": "U-dwM92FH40e"
      }
    },
    {
      "cell_type": "code",
      "source": [
        "fd=open(heading+'.txt','w')\n",
        "fd.write(con)\n",
        "fd.close()\n",
        "    "
      ],
      "metadata": {
        "id": "d_Jf7ohYH1UY"
      },
      "execution_count": 25,
      "outputs": []
    },
    {
      "cell_type": "code",
      "source": [],
      "metadata": {
        "id": "x5rOCysHIEkp"
      },
      "execution_count": 25,
      "outputs": []
    }
  ]
}