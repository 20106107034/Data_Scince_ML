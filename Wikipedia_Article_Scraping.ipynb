{
  "nbformat": 4,
  "nbformat_minor": 0,
  "metadata": {
    "colab": {
      "provenance": [],
      "authorship_tag": "ABX9TyNmmCad1KnBciBWarig1Bnl",
      "include_colab_link": true
    },
    "kernelspec": {
      "name": "python3",
      "display_name": "Python 3"
    },
    "language_info": {
      "name": "python"
    }
  },
  "cells": [
    {
      "cell_type": "markdown",
      "metadata": {
        "id": "view-in-github",
        "colab_type": "text"
      },
      "source": [
        "<a href=\"https://colab.research.google.com/github/20106107034/Data_Scince_ML/blob/main/Wikipedia_Article_Scraping.ipynb\" target=\"_parent\"><img src=\"https://colab.research.google.com/assets/colab-badge.svg\" alt=\"Open In Colab\"/></a>"
      ]
    },
    {
      "cell_type": "markdown",
      "source": [
        "**Importing**"
      ],
      "metadata": {
        "id": "NWv3M2Hj-TZP"
      }
    },
    {
      "cell_type": "code",
      "source": [
        "import requests\n",
        "from bs4 import BeautifulSoup\n",
        "from tqdm import tqdm"
      ],
      "metadata": {
        "id": "Mj1dPIjc-eG_"
      },
      "execution_count": 1,
      "outputs": []
    },
    {
      "cell_type": "markdown",
      "source": [
        "**Requesting**"
      ],
      "metadata": {
        "id": "OnBFZ_uN-lax"
      }
    },
    {
      "cell_type": "code",
      "source": [
        "link ='https://en.wikipedia.org/wiki/Sundar_pichai'\n",
        "respons = requests.get(link)\n",
        "soup    = BeautifulSoup(respons.text,'html.parser')"
      ],
      "metadata": {
        "id": "4SB24fK--j5V"
      },
      "execution_count": 2,
      "outputs": []
    },
    {
      "cell_type": "markdown",
      "source": [
        "**Heading**"
      ],
      "metadata": {
        "id": "qXe_AQGI-0wa"
      }
    },
    {
      "cell_type": "code",
      "source": [
        "title=soup.find('span',class_='mw-page-title-main').text"
      ],
      "metadata": {
        "id": "7iwPf3ei-yOA"
      },
      "execution_count": 3,
      "outputs": []
    },
    {
      "cell_type": "markdown",
      "source": [
        "**Scrap Article of Heading**"
      ],
      "metadata": {
        "id": "KLOPEto9_EKy"
      }
    },
    {
      "cell_type": "code",
      "source": [
        "str_ing=''\n",
        "temp=0\n",
        "for p in soup.find_all('p'):\n",
        "    if(temp>0):\n",
        "        str_ing +=p.text\n",
        "    else:\n",
        "        temp=temp+1\n",
        "    \n",
        "str_ing=str_ing.replace('\\n\\n',' ')\n",
        "str_ing=str_ing.strip()\n",
        "for i in range(3,480):\n",
        "    s='['+str(i)+']'\n",
        "    str_ing=str_ing.replace(s,'')"
      ],
      "metadata": {
        "id": "Iz9ZRZh__BR2"
      },
      "execution_count": 4,
      "outputs": []
    },
    {
      "cell_type": "markdown",
      "source": [
        "**Creating File of Write Article Of Heading**"
      ],
      "metadata": {
        "id": "SaQMvWUv_YMT"
      }
    },
    {
      "cell_type": "code",
      "source": [
        "f=open(title+'.txt','w')\n",
        "f.write(str_ing)\n",
        "f.close()\n"
      ],
      "metadata": {
        "id": "wWTuCg8D_XgW"
      },
      "execution_count": 5,
      "outputs": []
    }
  ]
}